{
 "cells": [
  {
   "cell_type": "markdown",
   "metadata": {},
   "source": [
    "# Get started with dynamic circuits\n",
    "\n",
    "Welcome to the documentation and tutorials for dynamic circuits! Dynamic circuits are quantum circuits (or programs!) with not just the ability to apply gates and measurements to your qubits, but also to apply operations that are conditional on classical computations and measurement results within the coherence time of your qubits. [Dynamic circuits](https://medium.com/qiskit/a-new-openqasm-for-a-new-era-of-dynamic-circuits-87f031cac49) are a critical component of the [IBM Quantum hardware roadmap](https://research.ibm.com/blog/ibm-quantum-roadmap-2025).\n",
    "\n",
    "We aim to provide access to real-time classical control and compute integrated in a seamless way with your quantum algorithms. IBM Quantum computers support programming dynamic circuits with both [Qiskit](./dynamic-circuits-basics-with-qiskit) and [OpenQASM 3](./dynamic-circuits-basics-with-openqasm3). To see what features of OpenQASM 3 are currently supported in hardware, please see the [feature table here.](./feature-table)\n",
    "\n",
    "Adding support for these new quantum hardware and software capabilities is a large effort that spans through Qiskit, the cloud, Qiskit Runtime, kernel-level compiler (more details coming soon!), hardware runtimes, and control systems. Development is still ongoing and feedback/discussion is encouraged in our Slack channel [#dynamic-circuits](https://qiskit.slack.com/archives/C03KWBJ7E68) in the [Qiskit workspace](http://ibm.co/joinqiskitslack). Development is happening at a rapid pace and we expect to incorporate feedback quickly.\n",
    "\n",
    "<Admonition type=\"note\">\n",
    "  As we integrate new features and address feedback, changes may be rapid and possibly breaking.\n",
    "</Admonition>\n",
    "\n",
    "If you have a question, first visit the [FAQs](#faqs) and see if it has already been answered. If you can’t find the answer there, please ask in our Slack channel [#dynamic-circuits](https://qiskit.slack.com/archives/C03KWBJ7E68) in the [Qiskit workspace](http://ibm.co/joinqiskitslack).\n"
   ]
  },
  {
   "cell_type": "markdown",
   "metadata": {},
   "source": [
    "## Set up\n",
    "\n",
    "We will be using [Qiskit](https://qiskit.org/) throughout the tutorial.\n",
    "\n",
    "This notebook will guide you through getting set up.\n",
    "\n",
    "The tutorial notebooks live in [IBM Quantum Lab](https://quantum-computing.ibm.com/lab/files/qiskit-tutorials/dynamic-circuits/). You will need to have an IBM Quantum account to use the Quantum Lab. If you do not already have one, [sign up for an IBM Quantum account](https://quantum-computing.ibm.com/).\n",
    "\n",
    "You can run these tutorials either in the cloud, or download them to run on your local machine.\n"
   ]
  },
  {
   "cell_type": "markdown",
   "metadata": {},
   "source": [
    "### Option 1 - Local Machine\n",
    "\n",
    "Log on to IBM Quantum Lab with your IBM Quantum account credentials.\n",
    "\n",
    "Download the [Dynamic circuits notebooks](https://quantum-computing.ibm.com/lab/files/qiskit-tutorials/dynamic-circuits/), including the `figs/` directory.\n",
    "\n",
    "Next, install Qiskit by following these [instructions](https://qiskit.org/documentation/getting_started.html).\n",
    "\n",
    "*   Set up a Python virtual environment for the tutorial (good practice but not necessary).\n",
    "\n",
    "*   Make sure you have have the latest Qiskit installed. *(`qiskit-terra>=0.22` and `qiskit-ibm-provider>=0.1.0`)*\n",
    "\n",
    "    *   `pip install jupyter matplotlib scipy`\n",
    "\n",
    "    *   `pip install qiskit --upgrade`\n",
    "\n",
    "    *   To update qiskit-terra, run `pip install qiskit-terra -U`\n",
    "\n",
    "    *   `pip install qiskit-ibm-provider`\n",
    "\n",
    "*   Open up this notebook `\"Getting-started-with-Dynamic-Circuits.ipynb\"`, run to check your installation, and run your first OpenQASM 3 program on hardware.\n"
   ]
  },
  {
   "cell_type": "markdown",
   "metadata": {},
   "source": [
    "### Option 2 - Quantum Lab\n",
    "\n",
    "Open the tutorial in [Quantum Lab](https://quantum-computing.ibm.com/lab/files/qiskit-tutorials/dynamic-circuits/).\n",
    "\n",
    "Please make sure to verify that your `qiskit-terra` version `>=0.22.0` and that you are using the latest `qiskit-ibm-provider` version.\n"
   ]
  },
  {
   "cell_type": "code",
   "execution_count": 1,
   "metadata": {},
   "outputs": [
    {
     "data": {
      "text/html": [
       "<h3>Version Information</h3><table><tr><th>Software</th><th>Version</th></tr><tr><td><code>qiskit</code></td><td>0.43.1</td></tr><tr><td><code>qiskit-terra</code></td><td>0.25.0</td></tr><tr><th colspan='2'>System information</th></tr><tr><td>Python version</td><td>3.10.9</td></tr><tr><td>Python compiler</td><td>MSC v.1916 64 bit (AMD64)</td></tr><tr><td>Python build</td><td>main, Mar  1 2023 18:18:15</td></tr><tr><td>OS</td><td>Windows</td></tr><tr><td>CPUs</td><td>2</td></tr><tr><td>Memory (Gb)</td><td>7.872280120849609</td></tr><tr><td colspan='2'>Sat Sep 23 13:38:56 2023 Pakistan Standard Time</td></tr></table>"
      ],
      "text/plain": [
       "<IPython.core.display.HTML object>"
      ]
     },
     "metadata": {},
     "output_type": "display_data"
    }
   ],
   "source": [
    "import qiskit.tools.jupyter\n",
    "%qiskit_version_table"
   ]
  },
  {
   "cell_type": "code",
   "execution_count": 2,
   "metadata": {},
   "outputs": [],
   "source": [
    "# Running checks for the correct dependencies\n",
    "import qiskit\n",
    "from packaging import version\n",
    "\n",
    "if not(version.parse(qiskit.__qiskit_version__[\"qiskit-terra\"]) >= version.parse(\"0.22\")):\n",
    "    print(\n",
    "        \"Incorrect dependencies. Found qiskit-terra: \"\n",
    "        + qiskit.__qiskit_version__[\"qiskit-terra\"]\n",
    "        + \"\\nNeed qiskit-terra >= 0.22\"\n",
    "    )\n",
    "\n",
    "try:\n",
    "    import qiskit_ibm_provider\n",
    "except ModuleNotFoundError:\n",
    "    print(\n",
    "        \"You must install the qiskit_ibm_provider with 'pip install qiskit_ibm_provider'\"\n",
    "    )\n",
    "    raise"
   ]
  },
  {
   "cell_type": "code",
   "execution_count": 3,
   "metadata": {},
   "outputs": [],
   "source": [
    "# Ignoring warnings\n",
    "import sys\n",
    "import warnings\n",
    "\n",
    "if not sys.warnoptions:\n",
    "    warnings.simplefilter(\"ignore\")"
   ]
  },
  {
   "cell_type": "markdown",
   "metadata": {},
   "source": [
    "The notebook is ready to run!\n"
   ]
  },
  {
   "cell_type": "markdown",
   "metadata": {},
   "source": [
    "## Testing OpenQASM 3 support\n",
    "\n",
    "Let's test out our installation by verifying we have access to the code and hardware necessary.\n",
    "\n",
    "First, load our backend.\n",
    "\n",
    "To view the simulators and systems supporting dynamic circuits that you can access, [click here (requires the user to be logged in to IBM Quantum)](https://quantum-computing.ibm.com/services/resources?tab=yours\\&openqasm3=true).\n",
    "\n",
    "**Note**: This can be *any* hub/group/project that has access to the required device and the Qiskit runtime and has OpenQASM 3 support\n"
   ]
  },
  {
   "cell_type": "code",
   "execution_count": 4,
   "metadata": {},
   "outputs": [],
   "source": [
    "# Note: This can be any hub/group/project that has access to the required device and the Qiskit runtime.\n",
    "hub = \"<hub>\"\n",
    "group = \"<group>\"\n",
    "project = \"<project>\"\n",
    "backend_name = \"<your backend>\"\n",
    "hgp = f\"{hub}/{group}/{project}\""
   ]
  },
  {
   "cell_type": "markdown",
   "metadata": {},
   "source": [
    "Next, we load our IBM Quantum account credentials.\n"
   ]
  },
  {
   "cell_type": "code",
   "execution_count": 5,
   "metadata": {},
   "outputs": [],
   "source": [
    "import qiskit\n",
    "from qiskit_ibm_provider import IBMProvider\n",
    "\n",
    "# Save token if necessary\n",
    "# IBMProvider.save_account(token='MY_API_TOKEN')\n",
    "\n",
    "# Get our backend\n",
    "provider = IBMProvider()\n",
    "backend = provider.get_backend(backend_name, instance=hgp)"
   ]
  },
  {
   "cell_type": "markdown",
   "metadata": {},
   "source": [
    "Make sure to use any OpenQASM 3-enabled backend.\n"
   ]
  },
  {
   "cell_type": "code",
   "execution_count": null,
   "metadata": {},
   "outputs": [],
   "source": [
    "qasm3_backends = set(\n",
    "    backend.name for backend in provider.backends(dynamic_circuits=True)\n",
    ")\n",
    "\n",
    "print(f\"The following backends support dynamic circuits: {qasm3_backends}\")"
   ]
  },
  {
   "cell_type": "markdown",
   "metadata": {},
   "source": [
    "Now we prepare our circuit.\n"
   ]
  },
  {
   "cell_type": "code",
   "execution_count": 7,
   "metadata": {},
   "outputs": [],
   "source": [
    "qubit = 0\n",
    "shots = 1000"
   ]
  },
  {
   "cell_type": "code",
   "execution_count": 8,
   "metadata": {},
   "outputs": [
    {
     "data": {
      "image/png": "[encoded data removed]",
      "text/plain": [
       "<Figure size 193.726x144.48 with 1 Axes>"
      ]
     },
     "execution_count": 8,
     "metadata": {},
     "output_type": "execute_result"
    }
   ],
   "source": [
    "from qiskit import QuantumCircuit\n",
    "\n",
    "h_qc = QuantumCircuit(1, 1, name=\"|+> Prep\")\n",
    "h_qc.h(0)\n",
    "h_qc.measure(0, 0)\n",
    "h_qc.draw(idle_wires=False, output=\"mpl\")"
   ]
  },
  {
   "cell_type": "markdown",
   "metadata": {},
   "source": [
    "Next, transpile our quantum circuit for the hardware basis gates.\n"
   ]
  },
  {
   "cell_type": "code",
   "execution_count": 9,
   "metadata": {},
   "outputs": [
    {
     "data": {
      "image/png": "[encoded data removed]",
      "text/plain": [
       "<Figure size 364.892x144.48 with 1 Axes>"
      ]
     },
     "execution_count": 9,
     "metadata": {},
     "output_type": "execute_result"
    }
   ],
   "source": [
    "from qiskit import transpile\n",
    "\n",
    "h_qc_transpiled = transpile(h_qc, backend, initial_layout=[1])\n",
    "h_qc_transpiled.draw(idle_wires=False, output=\"mpl\")"
   ]
  },
  {
   "cell_type": "markdown",
   "metadata": {},
   "source": [
    "Now we submit our circuit to the backend to verify it is working.\n"
   ]
  },
  {
   "cell_type": "markdown",
   "metadata": {},
   "source": [
    "Note that we have to set `dynamic=True` to communicate to the backend that we want to run a dynamic circuit.\n"
   ]
  },
  {
   "cell_type": "code",
   "execution_count": 10,
   "metadata": {},
   "outputs": [
    {
     "name": "stdout",
     "output_type": "stream",
     "text": [
      "Your job's id: cdi1j0557v9vkk45o5cg\n",
      "|+> preparation results: {'0': 506, '1': 494}\n"
     ]
    }
   ],
   "source": [
    "job = backend.run(h_qc_transpiled, shots=shots, dynamic=True)\n",
    "print(f\"Your job's id: {job.job_id()}\")\n",
    "result = job.result()\n",
    "print(f\"|+> preparation results: {result.get_counts(0)}\")"
   ]
  },
  {
   "cell_type": "code",
   "execution_count": 11,
   "metadata": {},
   "outputs": [],
   "source": [
    "job.error_message()"
   ]
  },
  {
   "cell_type": "code",
   "execution_count": null,
   "metadata": {},
   "outputs": [],
   "source": [
    "import qiskit.tools.jupyter\n",
    "%qiskit_version_table"
   ]
  },
  {
   "cell_type": "markdown",
   "metadata": {},
   "source": [
    "## Run a dynamic circuit\n",
    "\n",
    "This tutorial introduces the current dynamic circuit support through Qiskit on IBM Quantum hardware.\n",
    "\n",
    "Dynamic circuits are quantum circuits that contain mid-circuit measurements that affect the control flow of gate execution later in the circuit, otherwise known as feed-forward operations. The canonical and most simple example is conditional reset, where we perform a projective measurement of the qubit, and if the result is a 1, we flip the state using an X-gate from the $|1\\rangle$ to the $|0\\rangle$ state. If the result is a 0 we do nothing, as we are already in $|0\\rangle$.\n",
    "\n",
    "Dynamic circuit support requires significant changes to the hardware and software backends that execute quantum circuits, compared to traditional 'static' circuits. Many of IBM Quantum's hardware backends have been upgraded to support dynamic circuits. To view the simulators and systems supporting dynamic circuits that you can access, [click here (requires the user to be logged in to IBM Quantum)](https://quantum-computing.ibm.com/services/resources?tab=yours\\&openqasm3=true). Support for dynamic circuits will continue to grow and improve in ease of use and efficiency.\n"
   ]
  },
  {
   "cell_type": "code",
   "execution_count": null,
   "metadata": {},
   "outputs": [],
   "source": [
    "import warnings\n",
    "warnings.filterwarnings(\"ignore\")"
   ]
  },
  {
   "cell_type": "markdown",
   "metadata": {},
   "source": [
    "<Admonition type=\"note\">\n",
    "  Before running this notebook, make sure to the follow the [steps to get started](#get-started-with-dynamic-circuits), to verify you are set up to run dynamic circuit programs on IBM hardware.\n",
    "</Admonition>\n"
   ]
  },
  {
   "cell_type": "markdown",
   "metadata": {},
   "source": [
    "### Step 1: Load backend\n",
    "\n",
    "Backends provide a handle to the quantum hardware instance. The main approach for running circuits will be to call `backend.run(<your circuit>, dynamic=True)`. Backends are obtained from the `IBMProvider` imported from `qiskit_ibm_provider`, and are specified by a system name along with the `hub/group/project` string that gives you access to that system.\n"
   ]
  },
  {
   "cell_type": "code",
   "execution_count": null,
   "metadata": {},
   "outputs": [],
   "source": [
    "# Note: This can be any hub/group/project that has access to the required device and Qiskit Runtime.\n",
    "hub = \"<hub>\"\n",
    "group = \"<group>\"\n",
    "project = \"<project>\"\n",
    "backend_name = \"<your backend>\"\n",
    "hgp = f\"{hub}/{group}/{project}\""
   ]
  },
  {
   "cell_type": "code",
   "execution_count": null,
   "metadata": {},
   "outputs": [],
   "source": [
    "from qiskit_ibm_provider import IBMProvider\n",
    "\n",
    "provider = IBMProvider()\n",
    "backend = provider.get_backend(backend_name, instance=hgp)"
   ]
  },
  {
   "cell_type": "markdown",
   "metadata": {},
   "source": [
    "**Load a simulator backend**\n",
    "\n",
    "We can also use a simulator to simulate the behavior of dynamic circuits. We obtain a simulator backend similarly to a hardware backend.\n"
   ]
  },
  {
   "cell_type": "code",
   "execution_count": null,
   "metadata": {},
   "outputs": [],
   "source": [
    "from qiskit import Aer\n",
    "backend_sim = Aer.get_backend('aer_simulator')"
   ]
  },
  {
   "cell_type": "markdown",
   "metadata": {},
   "source": [
    "### Step 2: Write a dynamic circuit with Qiskit\n",
    "\n",
    "We start with a conditional reset circuit on a single qubit. We first try to excite the qubit with an X-gate followed by a  measurement, and another X-gate if the measurement returns a 1.\n",
    "\n",
    "In older versions of Qiskit, limited conditional execution was supported using the `c_if()` construct. This was a function that all gate objects exposed, which allowed gate execution to be conditioned on the value of a classical register. A significant limitation was that only a single gate could be conditioned on the classical register value.\n",
    "\n",
    "In contrast, the new style of classical control flow with the `if_test()` allows significantly more flexibility in the values that can be conditioned on and the sub-circuits that can be defined within the body of the `if_test()`. It also enables `else` conditions. More documentation on the `if_test()` is [available here](/api/qiskit/qiskit.circuit.QuantumCircuit#if_test).\n"
   ]
  },
  {
   "cell_type": "code",
   "execution_count": null,
   "metadata": {},
   "outputs": [
    {
     "data": {
      "image/png": "[encoded data removed]",
      "text/plain": [
       "<Figure size 511.914x204.68 with 1 Axes>"
      ]
     },
     "metadata": {},
     "output_type": "display_data"
    }
   ],
   "source": [
    "from qiskit import QuantumCircuit, QuantumRegister, ClassicalRegister\n",
    "from qiskit import transpile\n",
    "\n",
    "qr = QuantumRegister(1)\n",
    "crx = ClassicalRegister(1, name=\"xresult\")\n",
    "crm = ClassicalRegister(1, name=\"measureresult\")\n",
    "qc_reset = QuantumCircuit(qr, crx, crm, name=\"Reset\")\n",
    "qc_reset.x(0)\n",
    "qc_reset.measure(0, crx)\n",
    "# qc_reset.x(0).c_if(crx, 1) # old style conditional gate\n",
    "with qc_reset.if_test((crx, 1)): # new style conditional block (more flexible)\n",
    "    qc_reset.x(0)\n",
    "qc_reset.measure(0, crm)\n",
    "\n",
    "qc_reset = transpile(qc_reset, backend, initial_layout=[0])\n",
    "qc_reset.draw(output=\"mpl\", idle_wires=False)"
   ]
  },
  {
   "cell_type": "markdown",
   "metadata": {},
   "source": [
    "### Step 3: Run conditional reset in a simulator\n",
    "\n",
    "Running on the simulator is very similar to running on the hardware.\n"
   ]
  },
  {
   "cell_type": "code",
   "execution_count": null,
   "metadata": {},
   "outputs": [
    {
     "name": "stdout",
     "output_type": "stream",
     "text": [
      "fda596f0-0c54-4db0-9cf7-104f1f1bcd5c\n"
     ]
    }
   ],
   "source": [
    "reset_sim_job = backend_sim.run(qc_reset)\n",
    "print(reset_sim_job.job_id())"
   ]
  },
  {
   "cell_type": "code",
   "execution_count": null,
   "metadata": {},
   "outputs": [
    {
     "name": "stdout",
     "output_type": "stream",
     "text": [
      "Full counts including reset: {'0 1': 1024}\n"
     ]
    }
   ],
   "source": [
    "reset_sim_result = reset_sim_job.result()\n",
    "reset_sim_counts = reset_sim_result.get_counts(0)\n",
    "print(f\"Full counts including reset: {reset_sim_counts}\")"
   ]
  },
  {
   "cell_type": "markdown",
   "metadata": {},
   "source": [
    "### Step 4: Run conditional reset on hardware\n",
    "\n",
    "Now we run our conditional reset program on the backend. We turn off the automatic qubit initialization provided by the backend so that we can examine the results of our reset program directly.\n"
   ]
  },
  {
   "cell_type": "code",
   "execution_count": null,
   "metadata": {},
   "outputs": [
    {
     "name": "stdout",
     "output_type": "stream",
     "text": [
      "cdl97lvtlcfkm5f2pnb0\n"
     ]
    }
   ],
   "source": [
    "reset_job = backend.run(qc_reset, dynamic=True, init_qubits=False) # Turn off automatic init\n",
    "print(reset_job.job_id())"
   ]
  },
  {
   "cell_type": "markdown",
   "metadata": {},
   "source": [
    "Let's understand the results:\n"
   ]
  },
  {
   "cell_type": "code",
   "execution_count": null,
   "metadata": {},
   "outputs": [
    {
     "name": "stdout",
     "output_type": "stream",
     "text": [
      "Full counts including reset: {'0 0': 87, '0 1': 3290, '1 0': 20, '1 1': 603}\n",
      "Results from our reset - |0>s prepared 3377, |1>s prepared 623\n"
     ]
    }
   ],
   "source": [
    "from qiskit.result import marginal_counts\n",
    "\n",
    "reset_result = reset_job.result()\n",
    "reset_counts = reset_result.get_counts(0)\n",
    "mitigated_reset_results = marginal_counts(reset_counts, indices=[1])\n",
    "print(f\"Full counts including reset: {reset_counts}\")\n",
    "print(\n",
    "    f\"Results from our reset - |0>s prepared {mitigated_reset_results.get('0')}, |1>s prepared {mitigated_reset_results['1']}\"\n",
    ")"
   ]
  },
  {
   "cell_type": "markdown",
   "metadata": {},
   "source": [
    "### Step 5: Conditional Reset with OpenQASM 3\n",
    "\n",
    "Another way to write the same circuit above is to use [OpenQASM 3](https://arxiv.org/abs/2104.14722), a quantum assembly language well-suited to describing dynamic circuits. The [live specification](https://openqasm.com/) provides full details. Qiskit provides support to directly convert `QuantumCircuit` objects into OpenQASM 3.0 strings.\n"
   ]
  },
  {
   "cell_type": "code",
   "execution_count": null,
   "metadata": {},
   "outputs": [
    {
     "name": "stdout",
     "output_type": "stream",
     "text": [
      "OPENQASM 3;\n",
      "bit[1] xresult;\n",
      "bit[1] measureresult;\n",
      "x $0;\n",
      "xresult[0] = measure $0;\n",
      "if (xresult == 1) {\n",
      "  x $0;\n",
      "}\n",
      "measureresult[0] = measure $0;\n",
      "\n"
     ]
    }
   ],
   "source": [
    "try:\n",
    "    from qiskit import qasm3\n",
    "except ImportError:\n",
    "    print(\n",
    "        \"You likely do not have the latest version of Qiskit installed. Please install it to run this code\"\n",
    "    )\n",
    "    raise\n",
    "\n",
    "\n",
    "def dump_qasm3(circuit, backend=backend):\n",
    "    return qasm3.Exporter(\n",
    "        includes=[],\n",
    "        basis_gates=backend.configuration().basis_gates,\n",
    "        disable_constants=True,\n",
    "    ).dumps(circuit)\n",
    "\n",
    "\n",
    "qc_reset_qasm3 = dump_qasm3(qc_reset)\n",
    "print(qc_reset_qasm3)"
   ]
  },
  {
   "cell_type": "markdown",
   "metadata": {},
   "source": [
    "**Note:** The names of the classical registers (`xresult` and `measureresult`) in the `qasm3` string above are the same as those provided when the circuit was first constructed. These make the OpenQASM 3 string much more human-readable.\n"
   ]
  },
  {
   "cell_type": "markdown",
   "metadata": {},
   "source": [
    "### Step 6: Submit an OpenQASM 3 string directly\n",
    "\n",
    "It is also possible to submit an OpenQASM 3 string directly instead of a `QuantumCircuit` object.\n",
    "\n",
    "This is useful when the `QuantumCircuit` does not yet support all of the semantics of OpenQASM 3. To see what features of OpenQASM 3 are currently supported in hardware, please see the [feature table here](./feature-table).\n",
    "\n",
    "See [Dynamic circuits basics with OpenQASM 3](./dynamic-circuits-basics-with-openqasm3) for more information.\n",
    "\n",
    "**Note**: We cannot use circuit merging when OpenQASM 3 source strings are submitted. In this case each OpenQASM 3 source will run individually.\n"
   ]
  },
  {
   "cell_type": "code",
   "execution_count": null,
   "metadata": {},
   "outputs": [
    {
     "name": "stdout",
     "output_type": "stream",
     "text": [
      "cdl97rtf14jb6brio7q0\n"
     ]
    }
   ],
   "source": [
    "qasm3_job = backend.run(qc_reset_qasm3, dynamic=True)\n",
    "print(qasm3_job.job_id())"
   ]
  },
  {
   "cell_type": "code",
   "execution_count": null,
   "metadata": {},
   "outputs": [
    {
     "name": "stdout",
     "output_type": "stream",
     "text": [
      "{'0': 110, '1': 2783, '10': 35, '11': 1072}\n"
     ]
    }
   ],
   "source": [
    "print(qasm3_job.result().get_counts())"
   ]
  },
  {
   "cell_type": "markdown",
   "metadata": {},
   "source": [
    "## FAQs\n",
    "\n",
    "### General\n",
    "\n",
    "#### Where should I ask further questions?\n",
    "\n",
    "Ask your questions in the Slack channel [#dynamic-circuits](https://qiskit.slack.com/archives/C03KWBJ7E68) in the [Qiskit workspace](http://ibm.co/joinqiskitslack).\n",
    "\n",
    "#### Whom is dynamic circuit support available to?\n",
    "\n",
    "All users with access to backends that support this capability. Primarily, this is limited to **some** exploratory system clients. You can verify if backend support is available by filtering `provider.backends(dynamic_circuits=True)`. To view the simulators and systems supporting dynamic circuits that you can access, [click here (requires the user to be logged in to IBM Quantum)](https://quantum-computing.ibm.com/services/resources?tab=yours\\&openqasm3=true).\n",
    "\n",
    "#### What are the primary use cases for dynamic circuits?\n",
    "\n",
    "Dynamic circuits are critical for algorithms such as quantum error correction (QEC). In general, there are broad classes of quantum algorithms that exchange quantum resources for classical resources to construct exotic quantum channels.\n",
    "\n",
    "### Hardware platforms\n",
    "\n",
    "#### What systems have support for dynamic circuits?\n",
    "\n",
    "Any backend reporting support in the provider `provider.backends(dynamic_circuits=True)`.\n",
    "\n",
    "#### Which systems will be supported?\n",
    "\n",
    "Gradually support will be rolled out to most but not all deployed systems depending on control-system capabilities.\n",
    "\n",
    "### Capabilities\n",
    "\n",
    "#### Which gate types are supported?\n",
    "\n",
    "Currently only direct drive single-qubit, and cross-resonance two-qubit gates are supported.\n",
    "\n",
    "#### What circuit scheduling protocol is used on the backend?\n",
    "\n",
    "The quantum circuit model only specifies the dependency graph for circuit operations that are applied to qubits. This means that the timing of circuit operations *is not fully constrained* unless the duration of all operations is known *a priori* and operations are applied within a program such that no qubits remain idle (including delays). To fully resolve this timing degree of freedom within a circuit, the compiler applies a *scheduling policy*. You may be familiar with [scheduling policies in Qiskit](https://qiskit.org/documentation/tutorials/circuits_advanced/07_pulse_scheduler.html).\n",
    "\n",
    "Currently backends apply a default policy of ALAP (as-late-as-possible) scheduling.\n",
    "\n",
    "```qasm\n",
    "\n",
    "x $0;\n",
    "\n",
    "delay[1s] $1;\n",
    "\n",
    "bit result = measure $0;\n",
    "\n",
    "```\n",
    "\n",
    "Currently there are limitations on what portions of your program may be scheduled. See [below](#can-i-do-dynamical-decoupling) to learn more about these.\n",
    "\n",
    "In the future we will support both scheduling procedures with the advent of the pulse dialect.\n",
    "\n",
    "#### Can I do dynamical decoupling?\n",
    "\n",
    "The full scheduling capabilities that are supported in Qiskit are not one-for-one available due to the implementation details of making measurement results available in real-time. You *can* schedule blocks of gates, and they will behave as expected up until a reset or control-flow (if/else/for/while) transition occurs, which will trigger a non-deterministic delay, followed by the next deterministic gating section.\n",
    "\n",
    "For more information on how to use dynamical decoupling with dynamic circuits, see the [Dynamic Circuit scheduling support](https://qiskit.org/documentation/partners/qiskit_ibm_provider/stubs/qiskit_ibm_provider.transpiler.passes.scheduling.html#module-qiskit_ibm_provider.transpiler.passes.scheduling) in the Qiskit IBM Provider.\n",
    "\n",
    "#### Are parametric programs supported?\n",
    "\n",
    "These are not yet supported (although defined within the OpenQASM 3 language). Support will be coming in 2023.\n",
    "\n",
    "#### Can I submit multiple circuits at once?\n",
    "\n",
    "You can submit multiple circuits at once to the `qasm3-runner`. These will be merged into a single circuit for execution with reset sequences separating each circuit and result post-processing to separate out the individual circuit’s results.\n",
    "\n",
    "#### Are single/two-qubit gates performed in parallel across qubits?\n",
    "\n",
    "Yes.\n",
    "\n",
    "#### Are measurements performed in parallel across qubits?\n",
    "\n",
    "Yes, measurements that occur are independent when [topologically ordered](https://en.wikipedia.org/wiki/Topological_sorting) within a code-block are applied in parallel. For example:\n",
    "\n",
    "```qasm\n",
    "\n",
    "// In parallel\n",
    "\n",
    "measure $0;\n",
    "\n",
    "measure $1;\n",
    "\n",
    "\n",
    "\n",
    "// In Parallel\n",
    "\n",
    "measure $0;\n",
    "\n",
    "x $2;\n",
    "\n",
    "measure $1;\n",
    "\n",
    "```\n",
    "\n",
    "#### How are resets implemented?\n",
    "\n",
    "All resets use a conditional reset implementation with a single round of measurement/gating. As these require a conditional operation, there is currently a synchronization of the hardware required at the end of the reset which has an indeterministic duration.\n",
    "\n",
    "#### Do resets take the same time as other conditional logic in the hardware?\n",
    "\n",
    "No, resets use a fast path in the hardware. In general, *any* `if` statement with a test condition depending directly on a qubit measurement result, with block contents containing only operations applied to the qubit generating the measurement result, will not require synchronization in between (after a short delay between the measurement end and the start of gating).\n",
    "\n",
    "```qasm\n",
    "\n",
    "// uses fast-path\n",
    "\n",
    "bit result = measure $0;\n",
    "\n",
    "if (result == 1){\n",
    "\n",
    "    x $0;\n",
    "\n",
    "}\n",
    "\n",
    "\n",
    "\n",
    "// uses fastpath as decomposed to the above\n",
    "\n",
    "// in the compiler\n",
    "\n",
    "reset $0;\n",
    "\n",
    "\n",
    "\n",
    "// does not use fast path\n",
    "\n",
    "// however the result is already available\n",
    "\n",
    "// from the previous synchronization above\n",
    "\n",
    "// and no hardware synchronization is required\n",
    "\n",
    "if (result == 1){\n",
    "\n",
    "    x $0;\n",
    "\n",
    "}\n",
    "\n",
    "\n",
    "\n",
    "// does not use hardware fast-path\n",
    "\n",
    "// as different qubits are used between\n",
    "\n",
    "// measurement and gates. A global\n",
    "\n",
    "// decision (slower) is instead required.\n",
    "\n",
    "result = measure $0;\n",
    "\n",
    "if (result == 1){\n",
    "\n",
    "    x $1;\n",
    "\n",
    "}\n",
    "\n",
    "```\n",
    "\n",
    "#### Do resets occur in parallel?\n",
    "\n",
    "If the reset test conditions follow a parallel measurement, they will occur in parallel along the fast-path.\n",
    "\n",
    "```qasm\n",
    "\n",
    "// In parallel along fastpath\n",
    "\n",
    "bit res0 = measure $0;\n",
    "\n",
    "bit res1 = measure $1;\n",
    "\n",
    "\n",
    "\n",
    "if (res0 == 1) {\n",
    "\n",
    "    x $0;\n",
    "\n",
    "}\n",
    "\n",
    "if (res1 == 1) {\n",
    "\n",
    "    rz(3.15) $1;\n",
    "\n",
    "}\n",
    "\n",
    "\n",
    "\n",
    "// Not in parallel along fastpath\n",
    "\n",
    "// As the control-flow operations\n",
    "\n",
    "// do not directly follow\n",
    "\n",
    "// their measurement\n",
    "\n",
    "bit res1 = measure $1;\n",
    "\n",
    "barrier $1;\n",
    "\n",
    "bit res0 = measure $0;\n",
    "\n",
    "\n",
    "\n",
    "if (res1 == 1) {\n",
    "\n",
    "    x $1;\n",
    "\n",
    "}\n",
    "\n",
    "if (res0 == 1) {\n",
    "\n",
    "    rz(3.15) $0;\n",
    "\n",
    "}\n",
    "\n",
    "```\n",
    "\n",
    "#### Are my qubits initialized for me?\n",
    "\n",
    "Yes, see the Qiskit IBM Provider documentation for [available run options](https://qiskit.org/documentation/partners/qiskit_ibm_provider/stubs/qiskit_ibm_provider.IBMBackend.run.html#qiskit_ibm_provider.IBMBackend.run).\n",
    "\n",
    "#### Are nested measurements in control-flow possible?\n",
    "\n",
    "Yes, you are able to use measurements within control-flow to conditionally measure gates and apply conditional operations based on the measurement outcome. Currently you cannot retrieve the measurement result of conditional measurements; this will be resolved in 2023.\n",
    "\n",
    "#### The circuit quality of my dynamic circuits are worse than through the standard Qiskit path.\n",
    "\n",
    "This could be a bug! Please report it to the [#dynamic-circuits Slack channel](https://qiskit.slack.com/archives/C03KWBJ7E68) in the [Qiskit workspace](http://ibm.co/joinqiskitslack).\n",
    "\n",
    "#### Will hardware support OpenQASM 3 floating point types?\n",
    "\n",
    "Initially, real-time floating point types will not be supported. When support is added, it will begin will constant floating types, which may be handled at compile time. If real-time support is added, classical calculations involving floats will be slow, as it will be necessary to use soft math. Initially, real-time floats will likely be used as inputs to gate arguments, such as in the case of measurement-dependent rotation angles.\n",
    "\n",
    "### OpenQASM 3\n",
    "\n",
    "#### Where can I learn more about OpenQASM 3?\n",
    "\n",
    "See the [specification](https://openqasm.com/) and [the white paper](https://arxiv.org/abs/2104.14722).\n",
    "\n",
    "#### What OpenQASM 3 capabilities are currently supported?\n",
    "\n",
    "See the [feature table](./feature-table) page for more information.\n",
    "\n",
    "#### Why does the backend not support OpenQASM 3 with non-physical qubits, gate definitions, scheduling, etc.?\n",
    "\n",
    "OpenQASM 3 was designed conceptually as a [multi-level IR](https://arxiv.org/abs/2104.14722). The backend compiler is designed to accept input that is specified at the last layer of this IR (the physical layer) and is designed to work on physical quantum circuits. It is more akin to a quantum assembler (e.g., to execute as faithfully as possible the program you specify) for a quantum computer and its control systems - not a full-fledged language compiler. To that end, it is designed to work with Qiskit/other intermediate quantum optimization toolchains that may target it as output and know that what they emit is what will be executed. For now we would recommend optimizing your circuits first in Qiskit with its transpiler to lay out the circuit for the target basis gates and coupling map.\n",
    "\n",
    "#### Can I use pulse with OpenQASM 3?\n",
    "\n",
    "No, the pulse support development is in progress. This will support gate calibrations in the presence of control-flow in a scalable and expressible way. The user interface from OpenQASM will be based on the [OpenPulse Grammar](https://openqasm.com/language/openpulse.html).\n",
    "\n",
    "#### Can I submit textual OpenQASM 3 programs instead of Qiskit circuits?\n",
    "\n",
    "Yes, see [Dynamic Circuits basics with OpenQASM 3](./dynamic-circuits-basics-with-openqasm3).\n",
    "\n",
    "#### How must OpenQASM 3 source programs be structured?\n",
    "\n",
    "Input OpenQASM 3 source programs have these limitations:\n",
    "\n",
    "*   All operations must use physical qubits, eg., `cx $0, $1;`.\n",
    "\n",
    "*   No symbolic algebra is supported, e.g., `pi/2`.\n",
    "\n",
    "*   Must only use the backend’s basis gates (use the Qiskit transpiler to perform this conversion).\n",
    "\n",
    "*   Limited capabilities are [supported](#what-openqasm-3-capabilities-are-currently-supported).\n",
    "\n",
    "#### Are barriers being parsed properly from Qiskit down to the hardware?\n",
    "\n",
    "Yes.\n",
    "\n",
    "#### Are delays being parsed properly from Qiskit down to the hardware?\n",
    "\n",
    "Yes, delays on qubits are currently supported with units of `dt`, `us`, `ms` and `s`.\n",
    "\n",
    "#### Will every identical classical operation take the same amount of time in a circuit?\n",
    "\n",
    "It is reasonable to assume that the same classical condition will take the same amount of time to evaluate, on average, when it occurs multiple times in the circuit. While the control system is deliberately designed to reduce them, there are still sources of (small) nondeterminism, so that the actual execution time may differ slightly between each occurrence.\n",
    "\n",
    "#### Is there a way to find out after the fact how long each fast-forward operation took?\n",
    "\n",
    "There is currently no mechanism to gather that information from Qiskit. We can collect timing information for a limited scope, ie., there is not the capability to record an entire execution, but only a small section of one. This capability is limited to internal users.\n",
    "\n",
    "### Qiskit\n",
    "\n",
    "#### Why are classical capabilities limited in Qiskit?\n",
    "\n",
    "Qiskit was not originally designed to support dynamic circuits. These features were initially tacked on, and an extensive re-design is currently in progress. Consequently, the user-facing APIs and transpiler support are limited. At times we may require the usage of specific Qiskit releases and/or Git branches to enable rapid development of new dynamic circuit capabilities.\n",
    "\n",
    "#### How are results returned?\n",
    "\n",
    "Results are currently returned through the standard Qiskit [result object](/api/qiskit/qiskit.result.Result). This does not necessarily align with the OpenQASM 3 [input/output model](https://openqasm.com/language/directives.html?#input-output), and work is underway to fix this.\n"
   ]
  },
  {
   "cell_type": "markdown",
   "metadata": {},
   "source": [
    "## Dynamic circuits tutorials\n",
    "\n",
    "Work through these interactive tutorials in IBM Quantum Learning:\n",
    "\n",
    "*   [Quantum teleportation](https://learning.quantum-computing.ibm.com/tutorial/quantum-teleportation)\n",
    "\n",
    "*   [Iterative phase estimation](https://learning.quantum-computing.ibm.com/tutorial/iterative-phase-estimation)\n",
    "\n",
    "*   [Bit-flip repetition code](https://learning.quantum-computing.ibm.com/tutorial/bit-flip-repetition-code)\n",
    "\n",
    "*   [Repeat until success](https://learning.quantum-computing.ibm.com/tutorial/repeat-until-success)\n"
   ]
  }
 ],
 "metadata": {
  "description": "Get started with dynamic circuits",
  "kernelspec": {
   "display_name": "Python 3 (ipykernel)",
   "language": "python",
   "name": "python3"
  },
  "language_info": {
   "codemirror_mode": {
    "name": "ipython",
    "version": 3
   },
   "file_extension": ".py",
   "mimetype": "text/x-python",
   "name": "python",
   "nbconvert_exporter": "python",
   "pygments_lexer": "ipython3",
   "version": "3.10.9"
  },
  "title": "Get started with dynamic circuits",
  "vscode": {
   "interpreter": {
    "hash": "31f2aee4e71d21fbe5cf8b01ff0e069b9275f58929596ceb00d14d90e3e16cd6"
   }
  }
 },
 "nbformat": 4,
 "nbformat_minor": 4
}
